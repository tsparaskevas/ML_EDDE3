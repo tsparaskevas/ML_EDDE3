{
  "nbformat": 4,
  "nbformat_minor": 0,
  "metadata": {
    "colab": {
      "name": "Code for multiple ML predictions v1.ipynb",
      "provenance": [],
      "authorship_tag": "ABX9TyMt468mR+T6TNAzGTWkfjQ0",
      "include_colab_link": true
    },
    "kernelspec": {
      "name": "python3",
      "display_name": "Python 3"
    },
    "language_info": {
      "name": "python"
    }
  },
  "cells": [
    {
      "cell_type": "markdown",
      "metadata": {
        "id": "view-in-github",
        "colab_type": "text"
      },
      "source": [
        "<a href=\"https://colab.research.google.com/github/tsparaskevas/ML_EDDE3/blob/main/Code_for_multiple_ML_predictions_v1.ipynb\" target=\"_parent\"><img src=\"https://colab.research.google.com/assets/colab-badge.svg\" alt=\"Open In Colab\"/></a>"
      ]
    },
    {
      "cell_type": "markdown",
      "source": [
        "####Εισαγγή βιβλιοθηκών"
      ],
      "metadata": {
        "id": "5AHKzqo_inNi"
      }
    },
    {
      "cell_type": "code",
      "execution_count": null,
      "metadata": {
        "id": "W3iS7bPUhVzg"
      },
      "outputs": [],
      "source": [
        "import pandas as pd\n",
        "import numpy as np\n",
        "import matplotlib.pyplot as plt\n",
        "from sklearn.metrics import mean_squared_error, r2_score\n",
        "from sklearn.linear_model import LinearRegression\n",
        "from sklearn.tree import DecisionTreeRegressor, plot_tree\n",
        "from sklearn.model_selection import RepeatedKFold\n",
        "import seaborn as sns"
      ]
    },
    {
      "cell_type": "markdown",
      "source": [
        "####Εισαγωγή dataset και δημιουργία dataframe"
      ],
      "metadata": {
        "id": "VHBF0EwLitDo"
      }
    },
    {
      "cell_type": "code",
      "source": [
        "# Εισαγωγή στοιχείων του csv\n",
        "data_url = \"https://raw.githubusercontent.com/datajour-gr/ML-algorithms/master/week%206/winequality-white.csv\"\n",
        "sep = \";\"\n",
        "header = 0\n",
        "na_values = [\"N/A\"]"
      ],
      "metadata": {
        "id": "EbqZvvuYhZ4j"
      },
      "execution_count": null,
      "outputs": []
    },
    {
      "cell_type": "code",
      "source": [
        "# Δημιουργία dataframe από το dataset\n",
        "df = pd.read_csv(data_url, sep=sep, header=header, na_values = na_values)"
      ],
      "metadata": {
        "id": "UmtiKV-lmLF7"
      },
      "execution_count": null,
      "outputs": []
    },
    {
      "cell_type": "markdown",
      "source": [
        "Επισκόπηση dataframe"
      ],
      "metadata": {
        "id": "jAQ2xF2Ml-pj"
      }
    },
    {
      "cell_type": "code",
      "source": [
        "print(df.info(), \"\\n\")\n",
        "print(df.dtypes, \"\\n\")\n",
        "df.head()"
      ],
      "metadata": {
        "colab": {
          "base_uri": "https://localhost:8080/",
          "height": 814
        },
        "id": "bah2I2Jhi2C5",
        "outputId": "48134573-1d4a-489c-f7e9-783ef9a9ef5d"
      },
      "execution_count": null,
      "outputs": [
        {
          "output_type": "stream",
          "name": "stdout",
          "text": [
            "<class 'pandas.core.frame.DataFrame'>\n",
            "RangeIndex: 4898 entries, 0 to 4897\n",
            "Data columns (total 12 columns):\n",
            " #   Column                Non-Null Count  Dtype  \n",
            "---  ------                --------------  -----  \n",
            " 0   fixed acidity         4898 non-null   float64\n",
            " 1   volatile acidity      4898 non-null   float64\n",
            " 2   citric acid           4898 non-null   float64\n",
            " 3   residual sugar        4898 non-null   float64\n",
            " 4   chlorides             4898 non-null   float64\n",
            " 5   free sulfur dioxide   4898 non-null   float64\n",
            " 6   total sulfur dioxide  4898 non-null   float64\n",
            " 7   density               4898 non-null   float64\n",
            " 8   pH                    4898 non-null   float64\n",
            " 9   sulphates             4898 non-null   float64\n",
            " 10  alcohol               4898 non-null   float64\n",
            " 11  quality               4898 non-null   int64  \n",
            "dtypes: float64(11), int64(1)\n",
            "memory usage: 459.3 KB\n",
            "None \n",
            "\n",
            "fixed acidity           float64\n",
            "volatile acidity        float64\n",
            "citric acid             float64\n",
            "residual sugar          float64\n",
            "chlorides               float64\n",
            "free sulfur dioxide     float64\n",
            "total sulfur dioxide    float64\n",
            "density                 float64\n",
            "pH                      float64\n",
            "sulphates               float64\n",
            "alcohol                 float64\n",
            "quality                   int64\n",
            "dtype: object \n",
            "\n"
          ]
        },
        {
          "output_type": "execute_result",
          "data": {
            "text/plain": [
              "   fixed acidity  volatile acidity  citric acid  residual sugar  chlorides  \\\n",
              "0            7.0              0.27         0.36            20.7      0.045   \n",
              "1            6.3              0.30         0.34             1.6      0.049   \n",
              "2            8.1              0.28         0.40             6.9      0.050   \n",
              "3            7.2              0.23         0.32             8.5      0.058   \n",
              "4            7.2              0.23         0.32             8.5      0.058   \n",
              "\n",
              "   free sulfur dioxide  total sulfur dioxide  density    pH  sulphates  \\\n",
              "0                 45.0                 170.0   1.0010  3.00       0.45   \n",
              "1                 14.0                 132.0   0.9940  3.30       0.49   \n",
              "2                 30.0                  97.0   0.9951  3.26       0.44   \n",
              "3                 47.0                 186.0   0.9956  3.19       0.40   \n",
              "4                 47.0                 186.0   0.9956  3.19       0.40   \n",
              "\n",
              "   alcohol  quality  \n",
              "0      8.8        6  \n",
              "1      9.5        6  \n",
              "2     10.1        6  \n",
              "3      9.9        6  \n",
              "4      9.9        6  "
            ],
            "text/html": [
              "\n",
              "  <div id=\"df-d0093f44-c1f7-4250-8b73-4414eeaab9a5\">\n",
              "    <div class=\"colab-df-container\">\n",
              "      <div>\n",
              "<style scoped>\n",
              "    .dataframe tbody tr th:only-of-type {\n",
              "        vertical-align: middle;\n",
              "    }\n",
              "\n",
              "    .dataframe tbody tr th {\n",
              "        vertical-align: top;\n",
              "    }\n",
              "\n",
              "    .dataframe thead th {\n",
              "        text-align: right;\n",
              "    }\n",
              "</style>\n",
              "<table border=\"1\" class=\"dataframe\">\n",
              "  <thead>\n",
              "    <tr style=\"text-align: right;\">\n",
              "      <th></th>\n",
              "      <th>fixed acidity</th>\n",
              "      <th>volatile acidity</th>\n",
              "      <th>citric acid</th>\n",
              "      <th>residual sugar</th>\n",
              "      <th>chlorides</th>\n",
              "      <th>free sulfur dioxide</th>\n",
              "      <th>total sulfur dioxide</th>\n",
              "      <th>density</th>\n",
              "      <th>pH</th>\n",
              "      <th>sulphates</th>\n",
              "      <th>alcohol</th>\n",
              "      <th>quality</th>\n",
              "    </tr>\n",
              "  </thead>\n",
              "  <tbody>\n",
              "    <tr>\n",
              "      <th>0</th>\n",
              "      <td>7.0</td>\n",
              "      <td>0.27</td>\n",
              "      <td>0.36</td>\n",
              "      <td>20.7</td>\n",
              "      <td>0.045</td>\n",
              "      <td>45.0</td>\n",
              "      <td>170.0</td>\n",
              "      <td>1.0010</td>\n",
              "      <td>3.00</td>\n",
              "      <td>0.45</td>\n",
              "      <td>8.8</td>\n",
              "      <td>6</td>\n",
              "    </tr>\n",
              "    <tr>\n",
              "      <th>1</th>\n",
              "      <td>6.3</td>\n",
              "      <td>0.30</td>\n",
              "      <td>0.34</td>\n",
              "      <td>1.6</td>\n",
              "      <td>0.049</td>\n",
              "      <td>14.0</td>\n",
              "      <td>132.0</td>\n",
              "      <td>0.9940</td>\n",
              "      <td>3.30</td>\n",
              "      <td>0.49</td>\n",
              "      <td>9.5</td>\n",
              "      <td>6</td>\n",
              "    </tr>\n",
              "    <tr>\n",
              "      <th>2</th>\n",
              "      <td>8.1</td>\n",
              "      <td>0.28</td>\n",
              "      <td>0.40</td>\n",
              "      <td>6.9</td>\n",
              "      <td>0.050</td>\n",
              "      <td>30.0</td>\n",
              "      <td>97.0</td>\n",
              "      <td>0.9951</td>\n",
              "      <td>3.26</td>\n",
              "      <td>0.44</td>\n",
              "      <td>10.1</td>\n",
              "      <td>6</td>\n",
              "    </tr>\n",
              "    <tr>\n",
              "      <th>3</th>\n",
              "      <td>7.2</td>\n",
              "      <td>0.23</td>\n",
              "      <td>0.32</td>\n",
              "      <td>8.5</td>\n",
              "      <td>0.058</td>\n",
              "      <td>47.0</td>\n",
              "      <td>186.0</td>\n",
              "      <td>0.9956</td>\n",
              "      <td>3.19</td>\n",
              "      <td>0.40</td>\n",
              "      <td>9.9</td>\n",
              "      <td>6</td>\n",
              "    </tr>\n",
              "    <tr>\n",
              "      <th>4</th>\n",
              "      <td>7.2</td>\n",
              "      <td>0.23</td>\n",
              "      <td>0.32</td>\n",
              "      <td>8.5</td>\n",
              "      <td>0.058</td>\n",
              "      <td>47.0</td>\n",
              "      <td>186.0</td>\n",
              "      <td>0.9956</td>\n",
              "      <td>3.19</td>\n",
              "      <td>0.40</td>\n",
              "      <td>9.9</td>\n",
              "      <td>6</td>\n",
              "    </tr>\n",
              "  </tbody>\n",
              "</table>\n",
              "</div>\n",
              "      <button class=\"colab-df-convert\" onclick=\"convertToInteractive('df-d0093f44-c1f7-4250-8b73-4414eeaab9a5')\"\n",
              "              title=\"Convert this dataframe to an interactive table.\"\n",
              "              style=\"display:none;\">\n",
              "        \n",
              "  <svg xmlns=\"http://www.w3.org/2000/svg\" height=\"24px\"viewBox=\"0 0 24 24\"\n",
              "       width=\"24px\">\n",
              "    <path d=\"M0 0h24v24H0V0z\" fill=\"none\"/>\n",
              "    <path d=\"M18.56 5.44l.94 2.06.94-2.06 2.06-.94-2.06-.94-.94-2.06-.94 2.06-2.06.94zm-11 1L8.5 8.5l.94-2.06 2.06-.94-2.06-.94L8.5 2.5l-.94 2.06-2.06.94zm10 10l.94 2.06.94-2.06 2.06-.94-2.06-.94-.94-2.06-.94 2.06-2.06.94z\"/><path d=\"M17.41 7.96l-1.37-1.37c-.4-.4-.92-.59-1.43-.59-.52 0-1.04.2-1.43.59L10.3 9.45l-7.72 7.72c-.78.78-.78 2.05 0 2.83L4 21.41c.39.39.9.59 1.41.59.51 0 1.02-.2 1.41-.59l7.78-7.78 2.81-2.81c.8-.78.8-2.07 0-2.86zM5.41 20L4 18.59l7.72-7.72 1.47 1.35L5.41 20z\"/>\n",
              "  </svg>\n",
              "      </button>\n",
              "      \n",
              "  <style>\n",
              "    .colab-df-container {\n",
              "      display:flex;\n",
              "      flex-wrap:wrap;\n",
              "      gap: 12px;\n",
              "    }\n",
              "\n",
              "    .colab-df-convert {\n",
              "      background-color: #E8F0FE;\n",
              "      border: none;\n",
              "      border-radius: 50%;\n",
              "      cursor: pointer;\n",
              "      display: none;\n",
              "      fill: #1967D2;\n",
              "      height: 32px;\n",
              "      padding: 0 0 0 0;\n",
              "      width: 32px;\n",
              "    }\n",
              "\n",
              "    .colab-df-convert:hover {\n",
              "      background-color: #E2EBFA;\n",
              "      box-shadow: 0px 1px 2px rgba(60, 64, 67, 0.3), 0px 1px 3px 1px rgba(60, 64, 67, 0.15);\n",
              "      fill: #174EA6;\n",
              "    }\n",
              "\n",
              "    [theme=dark] .colab-df-convert {\n",
              "      background-color: #3B4455;\n",
              "      fill: #D2E3FC;\n",
              "    }\n",
              "\n",
              "    [theme=dark] .colab-df-convert:hover {\n",
              "      background-color: #434B5C;\n",
              "      box-shadow: 0px 1px 3px 1px rgba(0, 0, 0, 0.15);\n",
              "      filter: drop-shadow(0px 1px 2px rgba(0, 0, 0, 0.3));\n",
              "      fill: #FFFFFF;\n",
              "    }\n",
              "  </style>\n",
              "\n",
              "      <script>\n",
              "        const buttonEl =\n",
              "          document.querySelector('#df-d0093f44-c1f7-4250-8b73-4414eeaab9a5 button.colab-df-convert');\n",
              "        buttonEl.style.display =\n",
              "          google.colab.kernel.accessAllowed ? 'block' : 'none';\n",
              "\n",
              "        async function convertToInteractive(key) {\n",
              "          const element = document.querySelector('#df-d0093f44-c1f7-4250-8b73-4414eeaab9a5');\n",
              "          const dataTable =\n",
              "            await google.colab.kernel.invokeFunction('convertToInteractive',\n",
              "                                                     [key], {});\n",
              "          if (!dataTable) return;\n",
              "\n",
              "          const docLinkHtml = 'Like what you see? Visit the ' +\n",
              "            '<a target=\"_blank\" href=https://colab.research.google.com/notebooks/data_table.ipynb>data table notebook</a>'\n",
              "            + ' to learn more about interactive tables.';\n",
              "          element.innerHTML = '';\n",
              "          dataTable['output_type'] = 'display_data';\n",
              "          await google.colab.output.renderOutput(dataTable, element);\n",
              "          const docLink = document.createElement('div');\n",
              "          docLink.innerHTML = docLinkHtml;\n",
              "          element.appendChild(docLink);\n",
              "        }\n",
              "      </script>\n",
              "    </div>\n",
              "  </div>\n",
              "  "
            ]
          },
          "metadata": {},
          "execution_count": 4
        }
      ]
    },
    {
      "cell_type": "markdown",
      "source": [
        "Describe target variable"
      ],
      "metadata": {
        "id": "h-ALM1e_ofFc"
      }
    },
    {
      "cell_type": "code",
      "source": [
        "# Set target name\n",
        "target = \"quality\""
      ],
      "metadata": {
        "id": "S7N9ZIOLoloI"
      },
      "execution_count": null,
      "outputs": []
    },
    {
      "cell_type": "code",
      "source": [
        "print(df[target].describe())"
      ],
      "metadata": {
        "colab": {
          "base_uri": "https://localhost:8080/"
        },
        "id": "hPY4ryppi_xy",
        "outputId": "a53372c0-ff1f-4b81-853d-8abc6fba7f51"
      },
      "execution_count": null,
      "outputs": [
        {
          "output_type": "stream",
          "name": "stdout",
          "text": [
            "count    4898.000000\n",
            "mean        5.877909\n",
            "std         0.885639\n",
            "min         3.000000\n",
            "25%         5.000000\n",
            "50%         6.000000\n",
            "75%         6.000000\n",
            "max         9.000000\n",
            "Name: quality, dtype: float64\n"
          ]
        }
      ]
    },
    {
      "cell_type": "markdown",
      "source": [
        "####Dataset Info and Variables description"
      ],
      "metadata": {
        "id": "TpqsgOlwpAlm"
      }
    },
    {
      "cell_type": "markdown",
      "source": [
        "**Dataset Info**:\n",
        "* Data Set Characteristics: Multivariate\n",
        "* Associated Tasks: Classification, Regression\n",
        "* Number of Instances: 4898\n",
        "* Number of Attributes: 12\n",
        "* Missing Values? N/A\n",
        "\n",
        "**Attribute Information**:\n",
        "\n",
        "For more information, read [Cortez et al., 2009].\n",
        "\n",
        "Input variables (based on physicochemical tests):\n",
        "1. fixed acidity\n",
        "2. volatile acidity\n",
        "3. citric acid\n",
        "4. residual sugar\n",
        "5. chlorides\n",
        "6. free sulfur dioxide\n",
        "7. total sulfur dioxide\n",
        "8. density\n",
        "9. pH\n",
        "10. sulphates\n",
        "11. alcohol\n",
        "\n",
        "Output variable (based on sensory data):\n",
        "12. quality (score between 0 and 10)"
      ],
      "metadata": {
        "id": "f_E9xquoVtji"
      }
    },
    {
      "cell_type": "markdown",
      "source": [
        "####Missing values"
      ],
      "metadata": {
        "id": "QyQiRVO4pMvF"
      }
    },
    {
      "cell_type": "code",
      "source": [
        "# Αναζήτηση missing values\n",
        "df.isnull().sum()"
      ],
      "metadata": {
        "colab": {
          "base_uri": "https://localhost:8080/"
        },
        "id": "NI3zUf-opTe0",
        "outputId": "47035725-d17f-48b6-a6dd-6a9716999a47"
      },
      "execution_count": null,
      "outputs": [
        {
          "output_type": "execute_result",
          "data": {
            "text/plain": [
              "fixed acidity           0\n",
              "volatile acidity        0\n",
              "citric acid             0\n",
              "residual sugar          0\n",
              "chlorides               0\n",
              "free sulfur dioxide     0\n",
              "total sulfur dioxide    0\n",
              "density                 0\n",
              "pH                      0\n",
              "sulphates               0\n",
              "alcohol                 0\n",
              "quality                 0\n",
              "dtype: int64"
            ]
          },
          "metadata": {},
          "execution_count": 7
        }
      ]
    },
    {
      "cell_type": "code",
      "source": [
        "# Επισκόπηση των missing values\n",
        "df.loc[df.isnull().any(axis=1)]"
      ],
      "metadata": {
        "colab": {
          "base_uri": "https://localhost:8080/",
          "height": 49
        },
        "id": "VT4P0GuCq2di",
        "outputId": "72b78203-9236-470e-8b5e-80d7e3acb04c"
      },
      "execution_count": null,
      "outputs": [
        {
          "output_type": "execute_result",
          "data": {
            "text/plain": [
              "Empty DataFrame\n",
              "Columns: [fixed acidity, volatile acidity, citric acid, residual sugar, chlorides, free sulfur dioxide, total sulfur dioxide, density, pH, sulphates, alcohol, quality]\n",
              "Index: []"
            ],
            "text/html": [
              "\n",
              "  <div id=\"df-cd8c5f57-1f24-4595-af3c-92ab114ec910\">\n",
              "    <div class=\"colab-df-container\">\n",
              "      <div>\n",
              "<style scoped>\n",
              "    .dataframe tbody tr th:only-of-type {\n",
              "        vertical-align: middle;\n",
              "    }\n",
              "\n",
              "    .dataframe tbody tr th {\n",
              "        vertical-align: top;\n",
              "    }\n",
              "\n",
              "    .dataframe thead th {\n",
              "        text-align: right;\n",
              "    }\n",
              "</style>\n",
              "<table border=\"1\" class=\"dataframe\">\n",
              "  <thead>\n",
              "    <tr style=\"text-align: right;\">\n",
              "      <th></th>\n",
              "      <th>fixed acidity</th>\n",
              "      <th>volatile acidity</th>\n",
              "      <th>citric acid</th>\n",
              "      <th>residual sugar</th>\n",
              "      <th>chlorides</th>\n",
              "      <th>free sulfur dioxide</th>\n",
              "      <th>total sulfur dioxide</th>\n",
              "      <th>density</th>\n",
              "      <th>pH</th>\n",
              "      <th>sulphates</th>\n",
              "      <th>alcohol</th>\n",
              "      <th>quality</th>\n",
              "    </tr>\n",
              "  </thead>\n",
              "  <tbody>\n",
              "  </tbody>\n",
              "</table>\n",
              "</div>\n",
              "      <button class=\"colab-df-convert\" onclick=\"convertToInteractive('df-cd8c5f57-1f24-4595-af3c-92ab114ec910')\"\n",
              "              title=\"Convert this dataframe to an interactive table.\"\n",
              "              style=\"display:none;\">\n",
              "        \n",
              "  <svg xmlns=\"http://www.w3.org/2000/svg\" height=\"24px\"viewBox=\"0 0 24 24\"\n",
              "       width=\"24px\">\n",
              "    <path d=\"M0 0h24v24H0V0z\" fill=\"none\"/>\n",
              "    <path d=\"M18.56 5.44l.94 2.06.94-2.06 2.06-.94-2.06-.94-.94-2.06-.94 2.06-2.06.94zm-11 1L8.5 8.5l.94-2.06 2.06-.94-2.06-.94L8.5 2.5l-.94 2.06-2.06.94zm10 10l.94 2.06.94-2.06 2.06-.94-2.06-.94-.94-2.06-.94 2.06-2.06.94z\"/><path d=\"M17.41 7.96l-1.37-1.37c-.4-.4-.92-.59-1.43-.59-.52 0-1.04.2-1.43.59L10.3 9.45l-7.72 7.72c-.78.78-.78 2.05 0 2.83L4 21.41c.39.39.9.59 1.41.59.51 0 1.02-.2 1.41-.59l7.78-7.78 2.81-2.81c.8-.78.8-2.07 0-2.86zM5.41 20L4 18.59l7.72-7.72 1.47 1.35L5.41 20z\"/>\n",
              "  </svg>\n",
              "      </button>\n",
              "      \n",
              "  <style>\n",
              "    .colab-df-container {\n",
              "      display:flex;\n",
              "      flex-wrap:wrap;\n",
              "      gap: 12px;\n",
              "    }\n",
              "\n",
              "    .colab-df-convert {\n",
              "      background-color: #E8F0FE;\n",
              "      border: none;\n",
              "      border-radius: 50%;\n",
              "      cursor: pointer;\n",
              "      display: none;\n",
              "      fill: #1967D2;\n",
              "      height: 32px;\n",
              "      padding: 0 0 0 0;\n",
              "      width: 32px;\n",
              "    }\n",
              "\n",
              "    .colab-df-convert:hover {\n",
              "      background-color: #E2EBFA;\n",
              "      box-shadow: 0px 1px 2px rgba(60, 64, 67, 0.3), 0px 1px 3px 1px rgba(60, 64, 67, 0.15);\n",
              "      fill: #174EA6;\n",
              "    }\n",
              "\n",
              "    [theme=dark] .colab-df-convert {\n",
              "      background-color: #3B4455;\n",
              "      fill: #D2E3FC;\n",
              "    }\n",
              "\n",
              "    [theme=dark] .colab-df-convert:hover {\n",
              "      background-color: #434B5C;\n",
              "      box-shadow: 0px 1px 3px 1px rgba(0, 0, 0, 0.15);\n",
              "      filter: drop-shadow(0px 1px 2px rgba(0, 0, 0, 0.3));\n",
              "      fill: #FFFFFF;\n",
              "    }\n",
              "  </style>\n",
              "\n",
              "      <script>\n",
              "        const buttonEl =\n",
              "          document.querySelector('#df-cd8c5f57-1f24-4595-af3c-92ab114ec910 button.colab-df-convert');\n",
              "        buttonEl.style.display =\n",
              "          google.colab.kernel.accessAllowed ? 'block' : 'none';\n",
              "\n",
              "        async function convertToInteractive(key) {\n",
              "          const element = document.querySelector('#df-cd8c5f57-1f24-4595-af3c-92ab114ec910');\n",
              "          const dataTable =\n",
              "            await google.colab.kernel.invokeFunction('convertToInteractive',\n",
              "                                                     [key], {});\n",
              "          if (!dataTable) return;\n",
              "\n",
              "          const docLinkHtml = 'Like what you see? Visit the ' +\n",
              "            '<a target=\"_blank\" href=https://colab.research.google.com/notebooks/data_table.ipynb>data table notebook</a>'\n",
              "            + ' to learn more about interactive tables.';\n",
              "          element.innerHTML = '';\n",
              "          dataTable['output_type'] = 'display_data';\n",
              "          await google.colab.output.renderOutput(dataTable, element);\n",
              "          const docLink = document.createElement('div');\n",
              "          docLink.innerHTML = docLinkHtml;\n",
              "          element.appendChild(docLink);\n",
              "        }\n",
              "      </script>\n",
              "    </div>\n",
              "  </div>\n",
              "  "
            ]
          },
          "metadata": {},
          "execution_count": 8
        }
      ]
    },
    {
      "cell_type": "code",
      "source": [
        "# Συμπλήρωση των missing values με τη μέση τιμή\n",
        "df.update(df.fillna(df.mean()))"
      ],
      "metadata": {
        "id": "klO-4M2nqByA"
      },
      "execution_count": null,
      "outputs": []
    },
    {
      "cell_type": "markdown",
      "source": [
        "####Ιστογράμματα των μεταβλητών"
      ],
      "metadata": {
        "id": "HUL3XScnrEit"
      }
    },
    {
      "cell_type": "code",
      "source": [
        "# set a grey background (use sns.set_theme() if seaborn version 0.11.0 or above) \n",
        "sns.set(style=\"darkgrid\")\n",
        "\n",
        "cols_nbr = len(df.columns)\n",
        "plots_h = int(cols_nbr / 4)"
      ],
      "metadata": {
        "id": "91dlph6wu_Yc"
      },
      "execution_count": null,
      "outputs": []
    },
    {
      "cell_type": "code",
      "source": [
        "fig, axs = plt.subplots(plots_h, 4, figsize=(20, plots_h*4))\n",
        "\n",
        "for i in range(0, cols_nbr):\n",
        "  if i < 4:\n",
        "    plot_row = 0\n",
        "  elif i < 8:\n",
        "    plot_row = 1\n",
        "  elif i < 12:\n",
        "    plot_row = 2\n",
        "  elif i < 16:\n",
        "    plot_row = 3\n",
        "  elif i < 20:\n",
        "    plot_row = 4\n",
        "  plot_col = (i+4) % 4\n",
        "  sns.histplot(data=df, kde=True, x=df.columns[i], ax=axs[plot_row, plot_col])\n",
        "\n"
      ],
      "metadata": {
        "colab": {
          "base_uri": "https://localhost:8080/"
        },
        "id": "g4ZtebkhvRqr",
        "outputId": "6768b670-a525-454b-807d-120f6b4b14e0"
      },
      "execution_count": null,
      "outputs": [
        {
          "output_type": "display_data",
          "data": {
            "text/plain": [
              "<Figure size 1440x864 with 12 Axes>"
            ],
            "image/png": "[encoded data removed]"
          },
          "metadata": {}
        }
      ]
    },
    {
      "cell_type": "markdown",
      "source": [
        "**Παρατηρήσεις**"
      ],
      "metadata": {
        "id": "ldYI3ARd8Jnt"
      }
    },
    {
      "cell_type": "markdown",
      "source": [
        ""
      ],
      "metadata": {
        "id": "W9r1wU098OM7"
      }
    },
    {
      "cell_type": "markdown",
      "source": [
        "####Επισκόπηση της κατανομής του target"
      ],
      "metadata": {
        "id": "LaP1dgit9Wk5"
      }
    },
    {
      "cell_type": "code",
      "source": [
        "sns.set(rc = {'figure.figsize':(8,3)})\n",
        "sns.boxplot(data=df[target], palette=\"Set2\", orient=\"h\") # orient=\"h\" για να το κάνω οριζόντιο"
      ],
      "metadata": {
        "colab": {
          "base_uri": "https://localhost:8080/"
        },
        "id": "e2KiFTNfvRET",
        "outputId": "35a51443-8798-482b-f6c5-d0901a846d07"
      },
      "execution_count": null,
      "outputs": [
        {
          "output_type": "execute_result",
          "data": {
            "text/plain": [
              "<matplotlib.axes._subplots.AxesSubplot at 0x7f8aab9a2110>"
            ]
          },
          "metadata": {},
          "execution_count": 12
        },
        {
          "output_type": "display_data",
          "data": {
            "text/plain": [
              "<Figure size 576x216 with 1 Axes>"
            ],
            "image/png": "[encoded data removed]"
          },
          "metadata": {}
        }
      ]
    },
    {
      "cell_type": "markdown",
      "source": [
        "####Correlation των μεταβλητών"
      ],
      "metadata": {
        "id": "ftMTMH9K9kui"
      }
    },
    {
      "cell_type": "code",
      "source": [
        "# Έλεγχος της συσχέτισης των μεταβλητών μεταξύ τους (συντελεστής γραμμικής συσχέτισης του Pearson ή δειγματικός συντελεστής συσχέτισης r)R\n",
        "correlation_matrix = df.corr().round(2)\n",
        "# Set figure size\n",
        "plt.figure(figsize=(12, 12))\n",
        "# annot = True to print the values inside the square\n",
        "sns.heatmap(data=correlation_matrix, annot=True)"
      ],
      "metadata": {
        "colab": {
          "base_uri": "https://localhost:8080/"
        },
        "id": "9D-XN4Y29pnM",
        "outputId": "9ccaebcd-4e62-4091-f08d-4ead9ef63145"
      },
      "execution_count": null,
      "outputs": [
        {
          "output_type": "execute_result",
          "data": {
            "text/plain": [
              "<matplotlib.axes._subplots.AxesSubplot at 0x7f8aa9179ed0>"
            ]
          },
          "metadata": {},
          "execution_count": 13
        },
        {
          "output_type": "display_data",
          "data": {
            "text/plain": [
              "<Figure size 864x864 with 2 Axes>"
            ],
            "image/png": "[encoded data removed]"
          },
          "metadata": {}
        }
      ]
    },
    {
      "cell_type": "markdown",
      "source": [
        "Έλεγχος για μεγάλη συσχέτιση μεταξύ των ανεξάρτητων μεταβλητών"
      ],
      "metadata": {
        "id": "-tkKvbJ_Q3Sq"
      }
    },
    {
      "cell_type": "code",
      "source": [
        "for a in range(len(df.corr().columns)):\n",
        "    for b in range(a):\n",
        "        if abs(df.corr().iloc[a,b]) >0.7:\n",
        "            name1 = df.corr().columns[a]\n",
        "            name2 = df.corr().columns[b]\n",
        "            print(name1, \"-\", name2, \":::\", round((df.corr().iloc[a,b]),2))"
      ],
      "metadata": {
        "colab": {
          "base_uri": "https://localhost:8080/"
        },
        "id": "nUUJuXA4BXz4",
        "outputId": "33e495c4-477f-44d0-8ece-bbe8a60409bf"
      },
      "execution_count": null,
      "outputs": [
        {
          "output_type": "stream",
          "name": "stdout",
          "text": [
            "density - residual sugar ::: 0.84\n",
            "alcohol - density ::: -0.78\n"
          ]
        }
      ]
    },
    {
      "cell_type": "markdown",
      "source": [
        "Εντοπισμός της ανεξάρτητης μεταβλητής που σχετίζεται περισσότερο με το target"
      ],
      "metadata": {
        "id": "PEw10MBXDJ6-"
      }
    },
    {
      "cell_type": "code",
      "source": [
        "max_target_corr = df.corr().iloc[:-1][target].max()\n",
        "df.corr()[df.corr()[target] == max_target_corr]"
      ],
      "metadata": {
        "colab": {
          "base_uri": "https://localhost:8080/"
        },
        "id": "zR9qetuz-5Vh",
        "outputId": "0297e405-6a7f-4c32-a407-4ea8074db4cb"
      },
      "execution_count": null,
      "outputs": [
        {
          "output_type": "execute_result",
          "data": {
            "text/plain": [
              "         fixed acidity  volatile acidity  citric acid  residual sugar  \\\n",
              "alcohol      -0.120881          0.067718    -0.075729       -0.450631   \n",
              "\n",
              "         chlorides  free sulfur dioxide  total sulfur dioxide   density  \\\n",
              "alcohol  -0.360189            -0.250104             -0.448892 -0.780138   \n",
              "\n",
              "               pH  sulphates  alcohol   quality  \n",
              "alcohol  0.121432  -0.017433      1.0  0.435575  "
            ],
            "text/html": [
              "\n",
              "  <div id=\"df-5ab50e54-8ab0-4511-a455-442729cfe6ab\">\n",
              "    <div class=\"colab-df-container\">\n",
              "      <div>\n",
              "<style scoped>\n",
              "    .dataframe tbody tr th:only-of-type {\n",
              "        vertical-align: middle;\n",
              "    }\n",
              "\n",
              "    .dataframe tbody tr th {\n",
              "        vertical-align: top;\n",
              "    }\n",
              "\n",
              "    .dataframe thead th {\n",
              "        text-align: right;\n",
              "    }\n",
              "</style>\n",
              "<table border=\"1\" class=\"dataframe\">\n",
              "  <thead>\n",
              "    <tr style=\"text-align: right;\">\n",
              "      <th></th>\n",
              "      <th>fixed acidity</th>\n",
              "      <th>volatile acidity</th>\n",
              "      <th>citric acid</th>\n",
              "      <th>residual sugar</th>\n",
              "      <th>chlorides</th>\n",
              "      <th>free sulfur dioxide</th>\n",
              "      <th>total sulfur dioxide</th>\n",
              "      <th>density</th>\n",
              "      <th>pH</th>\n",
              "      <th>sulphates</th>\n",
              "      <th>alcohol</th>\n",
              "      <th>quality</th>\n",
              "    </tr>\n",
              "  </thead>\n",
              "  <tbody>\n",
              "    <tr>\n",
              "      <th>alcohol</th>\n",
              "      <td>-0.120881</td>\n",
              "      <td>0.067718</td>\n",
              "      <td>-0.075729</td>\n",
              "      <td>-0.450631</td>\n",
              "      <td>-0.360189</td>\n",
              "      <td>-0.250104</td>\n",
              "      <td>-0.448892</td>\n",
              "      <td>-0.780138</td>\n",
              "      <td>0.121432</td>\n",
              "      <td>-0.017433</td>\n",
              "      <td>1.0</td>\n",
              "      <td>0.435575</td>\n",
              "    </tr>\n",
              "  </tbody>\n",
              "</table>\n",
              "</div>\n",
              "      <button class=\"colab-df-convert\" onclick=\"convertToInteractive('df-5ab50e54-8ab0-4511-a455-442729cfe6ab')\"\n",
              "              title=\"Convert this dataframe to an interactive table.\"\n",
              "              style=\"display:none;\">\n",
              "        \n",
              "  <svg xmlns=\"http://www.w3.org/2000/svg\" height=\"24px\"viewBox=\"0 0 24 24\"\n",
              "       width=\"24px\">\n",
              "    <path d=\"M0 0h24v24H0V0z\" fill=\"none\"/>\n",
              "    <path d=\"M18.56 5.44l.94 2.06.94-2.06 2.06-.94-2.06-.94-.94-2.06-.94 2.06-2.06.94zm-11 1L8.5 8.5l.94-2.06 2.06-.94-2.06-.94L8.5 2.5l-.94 2.06-2.06.94zm10 10l.94 2.06.94-2.06 2.06-.94-2.06-.94-.94-2.06-.94 2.06-2.06.94z\"/><path d=\"M17.41 7.96l-1.37-1.37c-.4-.4-.92-.59-1.43-.59-.52 0-1.04.2-1.43.59L10.3 9.45l-7.72 7.72c-.78.78-.78 2.05 0 2.83L4 21.41c.39.39.9.59 1.41.59.51 0 1.02-.2 1.41-.59l7.78-7.78 2.81-2.81c.8-.78.8-2.07 0-2.86zM5.41 20L4 18.59l7.72-7.72 1.47 1.35L5.41 20z\"/>\n",
              "  </svg>\n",
              "      </button>\n",
              "      \n",
              "  <style>\n",
              "    .colab-df-container {\n",
              "      display:flex;\n",
              "      flex-wrap:wrap;\n",
              "      gap: 12px;\n",
              "    }\n",
              "\n",
              "    .colab-df-convert {\n",
              "      background-color: #E8F0FE;\n",
              "      border: none;\n",
              "      border-radius: 50%;\n",
              "      cursor: pointer;\n",
              "      display: none;\n",
              "      fill: #1967D2;\n",
              "      height: 32px;\n",
              "      padding: 0 0 0 0;\n",
              "      width: 32px;\n",
              "    }\n",
              "\n",
              "    .colab-df-convert:hover {\n",
              "      background-color: #E2EBFA;\n",
              "      box-shadow: 0px 1px 2px rgba(60, 64, 67, 0.3), 0px 1px 3px 1px rgba(60, 64, 67, 0.15);\n",
              "      fill: #174EA6;\n",
              "    }\n",
              "\n",
              "    [theme=dark] .colab-df-convert {\n",
              "      background-color: #3B4455;\n",
              "      fill: #D2E3FC;\n",
              "    }\n",
              "\n",
              "    [theme=dark] .colab-df-convert:hover {\n",
              "      background-color: #434B5C;\n",
              "      box-shadow: 0px 1px 3px 1px rgba(0, 0, 0, 0.15);\n",
              "      filter: drop-shadow(0px 1px 2px rgba(0, 0, 0, 0.3));\n",
              "      fill: #FFFFFF;\n",
              "    }\n",
              "  </style>\n",
              "\n",
              "      <script>\n",
              "        const buttonEl =\n",
              "          document.querySelector('#df-5ab50e54-8ab0-4511-a455-442729cfe6ab button.colab-df-convert');\n",
              "        buttonEl.style.display =\n",
              "          google.colab.kernel.accessAllowed ? 'block' : 'none';\n",
              "\n",
              "        async function convertToInteractive(key) {\n",
              "          const element = document.querySelector('#df-5ab50e54-8ab0-4511-a455-442729cfe6ab');\n",
              "          const dataTable =\n",
              "            await google.colab.kernel.invokeFunction('convertToInteractive',\n",
              "                                                     [key], {});\n",
              "          if (!dataTable) return;\n",
              "\n",
              "          const docLinkHtml = 'Like what you see? Visit the ' +\n",
              "            '<a target=\"_blank\" href=https://colab.research.google.com/notebooks/data_table.ipynb>data table notebook</a>'\n",
              "            + ' to learn more about interactive tables.';\n",
              "          element.innerHTML = '';\n",
              "          dataTable['output_type'] = 'display_data';\n",
              "          await google.colab.output.renderOutput(dataTable, element);\n",
              "          const docLink = document.createElement('div');\n",
              "          docLink.innerHTML = docLinkHtml;\n",
              "          element.appendChild(docLink);\n",
              "        }\n",
              "      </script>\n",
              "    </div>\n",
              "  </div>\n",
              "  "
            ]
          },
          "metadata": {},
          "execution_count": 15
        }
      ]
    },
    {
      "cell_type": "code",
      "source": [
        ""
      ],
      "metadata": {
        "id": "jBjpv4nQGI6Q"
      },
      "execution_count": null,
      "outputs": []
    },
    {
      "cell_type": "code",
      "source": [
        ""
      ],
      "metadata": {
        "id": "dKpXLmj-GIgS"
      },
      "execution_count": null,
      "outputs": []
    },
    {
      "cell_type": "markdown",
      "source": [
        "####Ορισμός Χ και Υ"
      ],
      "metadata": {
        "id": "ByFJHEKHHUkV"
      }
    },
    {
      "cell_type": "code",
      "source": [
        "X = df.drop(columns = target)\n",
        "y = df[target]"
      ],
      "metadata": {
        "id": "K2ezXUsAHu3l"
      },
      "execution_count": null,
      "outputs": []
    },
    {
      "cell_type": "markdown",
      "source": [
        "####Normalization"
      ],
      "metadata": {
        "id": "ClkbsERsJ3ac"
      }
    },
    {
      "cell_type": "code",
      "source": [
        "from sklearn.preprocessing import MinMaxScaler\n",
        "scaler = MinMaxScaler()\n",
        "# Fit the scaler\n",
        "scale_fit = scaler.fit(X)\n",
        "scaledX = scale_fit.transform(X)\n",
        "Xn = pd.DataFrame(scaledX, columns=X.columns)\n",
        "# display values\n",
        "Xn.head()"
      ],
      "metadata": {
        "colab": {
          "base_uri": "https://localhost:8080/"
        },
        "id": "IXC0mS-mJ5-c",
        "outputId": "e043ea74-efae-4258-8d5d-ff25ec55cf9b"
      },
      "execution_count": null,
      "outputs": [
        {
          "output_type": "execute_result",
          "data": {
            "text/plain": [
              "   fixed acidity  volatile acidity  citric acid  residual sugar  chlorides  \\\n",
              "0       0.307692          0.186275     0.216867        0.308282   0.106825   \n",
              "1       0.240385          0.215686     0.204819        0.015337   0.118694   \n",
              "2       0.413462          0.196078     0.240964        0.096626   0.121662   \n",
              "3       0.326923          0.147059     0.192771        0.121166   0.145401   \n",
              "4       0.326923          0.147059     0.192771        0.121166   0.145401   \n",
              "\n",
              "   free sulfur dioxide  total sulfur dioxide   density        pH  sulphates  \\\n",
              "0             0.149826              0.373550  0.267785  0.254545   0.267442   \n",
              "1             0.041812              0.285383  0.132832  0.527273   0.313953   \n",
              "2             0.097561              0.204176  0.154039  0.490909   0.255814   \n",
              "3             0.156794              0.410673  0.163678  0.427273   0.209302   \n",
              "4             0.156794              0.410673  0.163678  0.427273   0.209302   \n",
              "\n",
              "    alcohol  \n",
              "0  0.129032  \n",
              "1  0.241935  \n",
              "2  0.338710  \n",
              "3  0.306452  \n",
              "4  0.306452  "
            ],
            "text/html": [
              "\n",
              "  <div id=\"df-8d8cc37c-6ee5-4d9d-bc1c-387121183b68\">\n",
              "    <div class=\"colab-df-container\">\n",
              "      <div>\n",
              "<style scoped>\n",
              "    .dataframe tbody tr th:only-of-type {\n",
              "        vertical-align: middle;\n",
              "    }\n",
              "\n",
              "    .dataframe tbody tr th {\n",
              "        vertical-align: top;\n",
              "    }\n",
              "\n",
              "    .dataframe thead th {\n",
              "        text-align: right;\n",
              "    }\n",
              "</style>\n",
              "<table border=\"1\" class=\"dataframe\">\n",
              "  <thead>\n",
              "    <tr style=\"text-align: right;\">\n",
              "      <th></th>\n",
              "      <th>fixed acidity</th>\n",
              "      <th>volatile acidity</th>\n",
              "      <th>citric acid</th>\n",
              "      <th>residual sugar</th>\n",
              "      <th>chlorides</th>\n",
              "      <th>free sulfur dioxide</th>\n",
              "      <th>total sulfur dioxide</th>\n",
              "      <th>density</th>\n",
              "      <th>pH</th>\n",
              "      <th>sulphates</th>\n",
              "      <th>alcohol</th>\n",
              "    </tr>\n",
              "  </thead>\n",
              "  <tbody>\n",
              "    <tr>\n",
              "      <th>0</th>\n",
              "      <td>0.307692</td>\n",
              "      <td>0.186275</td>\n",
              "      <td>0.216867</td>\n",
              "      <td>0.308282</td>\n",
              "      <td>0.106825</td>\n",
              "      <td>0.149826</td>\n",
              "      <td>0.373550</td>\n",
              "      <td>0.267785</td>\n",
              "      <td>0.254545</td>\n",
              "      <td>0.267442</td>\n",
              "      <td>0.129032</td>\n",
              "    </tr>\n",
              "    <tr>\n",
              "      <th>1</th>\n",
              "      <td>0.240385</td>\n",
              "      <td>0.215686</td>\n",
              "      <td>0.204819</td>\n",
              "      <td>0.015337</td>\n",
              "      <td>0.118694</td>\n",
              "      <td>0.041812</td>\n",
              "      <td>0.285383</td>\n",
              "      <td>0.132832</td>\n",
              "      <td>0.527273</td>\n",
              "      <td>0.313953</td>\n",
              "      <td>0.241935</td>\n",
              "    </tr>\n",
              "    <tr>\n",
              "      <th>2</th>\n",
              "      <td>0.413462</td>\n",
              "      <td>0.196078</td>\n",
              "      <td>0.240964</td>\n",
              "      <td>0.096626</td>\n",
              "      <td>0.121662</td>\n",
              "      <td>0.097561</td>\n",
              "      <td>0.204176</td>\n",
              "      <td>0.154039</td>\n",
              "      <td>0.490909</td>\n",
              "      <td>0.255814</td>\n",
              "      <td>0.338710</td>\n",
              "    </tr>\n",
              "    <tr>\n",
              "      <th>3</th>\n",
              "      <td>0.326923</td>\n",
              "      <td>0.147059</td>\n",
              "      <td>0.192771</td>\n",
              "      <td>0.121166</td>\n",
              "      <td>0.145401</td>\n",
              "      <td>0.156794</td>\n",
              "      <td>0.410673</td>\n",
              "      <td>0.163678</td>\n",
              "      <td>0.427273</td>\n",
              "      <td>0.209302</td>\n",
              "      <td>0.306452</td>\n",
              "    </tr>\n",
              "    <tr>\n",
              "      <th>4</th>\n",
              "      <td>0.326923</td>\n",
              "      <td>0.147059</td>\n",
              "      <td>0.192771</td>\n",
              "      <td>0.121166</td>\n",
              "      <td>0.145401</td>\n",
              "      <td>0.156794</td>\n",
              "      <td>0.410673</td>\n",
              "      <td>0.163678</td>\n",
              "      <td>0.427273</td>\n",
              "      <td>0.209302</td>\n",
              "      <td>0.306452</td>\n",
              "    </tr>\n",
              "  </tbody>\n",
              "</table>\n",
              "</div>\n",
              "      <button class=\"colab-df-convert\" onclick=\"convertToInteractive('df-8d8cc37c-6ee5-4d9d-bc1c-387121183b68')\"\n",
              "              title=\"Convert this dataframe to an interactive table.\"\n",
              "              style=\"display:none;\">\n",
              "        \n",
              "  <svg xmlns=\"http://www.w3.org/2000/svg\" height=\"24px\"viewBox=\"0 0 24 24\"\n",
              "       width=\"24px\">\n",
              "    <path d=\"M0 0h24v24H0V0z\" fill=\"none\"/>\n",
              "    <path d=\"M18.56 5.44l.94 2.06.94-2.06 2.06-.94-2.06-.94-.94-2.06-.94 2.06-2.06.94zm-11 1L8.5 8.5l.94-2.06 2.06-.94-2.06-.94L8.5 2.5l-.94 2.06-2.06.94zm10 10l.94 2.06.94-2.06 2.06-.94-2.06-.94-.94-2.06-.94 2.06-2.06.94z\"/><path d=\"M17.41 7.96l-1.37-1.37c-.4-.4-.92-.59-1.43-.59-.52 0-1.04.2-1.43.59L10.3 9.45l-7.72 7.72c-.78.78-.78 2.05 0 2.83L4 21.41c.39.39.9.59 1.41.59.51 0 1.02-.2 1.41-.59l7.78-7.78 2.81-2.81c.8-.78.8-2.07 0-2.86zM5.41 20L4 18.59l7.72-7.72 1.47 1.35L5.41 20z\"/>\n",
              "  </svg>\n",
              "      </button>\n",
              "      \n",
              "  <style>\n",
              "    .colab-df-container {\n",
              "      display:flex;\n",
              "      flex-wrap:wrap;\n",
              "      gap: 12px;\n",
              "    }\n",
              "\n",
              "    .colab-df-convert {\n",
              "      background-color: #E8F0FE;\n",
              "      border: none;\n",
              "      border-radius: 50%;\n",
              "      cursor: pointer;\n",
              "      display: none;\n",
              "      fill: #1967D2;\n",
              "      height: 32px;\n",
              "      padding: 0 0 0 0;\n",
              "      width: 32px;\n",
              "    }\n",
              "\n",
              "    .colab-df-convert:hover {\n",
              "      background-color: #E2EBFA;\n",
              "      box-shadow: 0px 1px 2px rgba(60, 64, 67, 0.3), 0px 1px 3px 1px rgba(60, 64, 67, 0.15);\n",
              "      fill: #174EA6;\n",
              "    }\n",
              "\n",
              "    [theme=dark] .colab-df-convert {\n",
              "      background-color: #3B4455;\n",
              "      fill: #D2E3FC;\n",
              "    }\n",
              "\n",
              "    [theme=dark] .colab-df-convert:hover {\n",
              "      background-color: #434B5C;\n",
              "      box-shadow: 0px 1px 3px 1px rgba(0, 0, 0, 0.15);\n",
              "      filter: drop-shadow(0px 1px 2px rgba(0, 0, 0, 0.3));\n",
              "      fill: #FFFFFF;\n",
              "    }\n",
              "  </style>\n",
              "\n",
              "      <script>\n",
              "        const buttonEl =\n",
              "          document.querySelector('#df-8d8cc37c-6ee5-4d9d-bc1c-387121183b68 button.colab-df-convert');\n",
              "        buttonEl.style.display =\n",
              "          google.colab.kernel.accessAllowed ? 'block' : 'none';\n",
              "\n",
              "        async function convertToInteractive(key) {\n",
              "          const element = document.querySelector('#df-8d8cc37c-6ee5-4d9d-bc1c-387121183b68');\n",
              "          const dataTable =\n",
              "            await google.colab.kernel.invokeFunction('convertToInteractive',\n",
              "                                                     [key], {});\n",
              "          if (!dataTable) return;\n",
              "\n",
              "          const docLinkHtml = 'Like what you see? Visit the ' +\n",
              "            '<a target=\"_blank\" href=https://colab.research.google.com/notebooks/data_table.ipynb>data table notebook</a>'\n",
              "            + ' to learn more about interactive tables.';\n",
              "          element.innerHTML = '';\n",
              "          dataTable['output_type'] = 'display_data';\n",
              "          await google.colab.output.renderOutput(dataTable, element);\n",
              "          const docLink = document.createElement('div');\n",
              "          docLink.innerHTML = docLinkHtml;\n",
              "          element.appendChild(docLink);\n",
              "        }\n",
              "      </script>\n",
              "    </div>\n",
              "  </div>\n",
              "  "
            ]
          },
          "metadata": {},
          "execution_count": 17
        }
      ]
    },
    {
      "cell_type": "markdown",
      "source": [
        "####Cross Validation"
      ],
      "metadata": {
        "id": "Nwu2rXgjJBXy"
      }
    },
    {
      "cell_type": "code",
      "source": [
        "# Cross-Validation (cv)\n",
        "cv = RepeatedKFold(n_splits=10, n_repeats=10)"
      ],
      "metadata": {
        "id": "Tr_N0iRKI_19"
      },
      "execution_count": null,
      "outputs": []
    },
    {
      "cell_type": "code",
      "source": [
        "# function για linear regression\n",
        "def Lin_Reg():\n",
        "  global y_pred_test\n",
        "  global r2\n",
        "  global results_df\n",
        "  global degree_nbr\n",
        "  global depth\n",
        "  global min_splits\n",
        "  global pred_model\n",
        "  global cv_nbr\n",
        "  global rmse\n",
        "  lin_reg = LinearRegression()\n",
        "  # Εκπαίδευση στο train set\n",
        "  lin_reg.fit(X_train, y_train)\n",
        "  # Πρόβλεψη στο test set\n",
        "  y_pred_test = lin_reg.predict(X_test)\n",
        "  # Υπολογισμός root mean squared error\n",
        "  rmse = (np.sqrt(mean_squared_error(y_test, y_pred_test)))\n",
        "  # Υπολογισμός του R2 score\n",
        "  r2 = r2_score(y_test, y_pred_test)\n",
        "  # Ενημέρωση στις λίστες\n",
        "  depth = 0\n",
        "  degree_nbr = 0\n",
        "  min_splits = 0\n",
        "  results = [cv_nbr, pred_model, degree_nbr, depth, min_splits, rmse, r2]\n",
        "  new_row = len(results_df)\n",
        "  results_df.loc[new_row] = results\n",
        "  #r2_scores.append(r2) # αυτή η γραμμή είναι σωστή και δεν χρειάζεται αλλαγή \n",
        "  #.append(y_test)\n",
        "  #ls_predicted_values.append(y_pred_test)"
      ],
      "metadata": {
        "id": "_KVzfYuKWldo"
      },
      "execution_count": null,
      "outputs": []
    },
    {
      "cell_type": "code",
      "source": [
        "# Function για Polynominal Regression\n",
        "from sklearn.preprocessing import PolynomialFeatures\n",
        "\n",
        "def create_polynomial_regression_model(degree):\n",
        "  \"Creates a polynomial regression model for the given degree\"\n",
        "  global y_pred_test\n",
        "  global r2\n",
        "  global results_df\n",
        "  global degree_nbr\n",
        "  global depth\n",
        "  global min_splits\n",
        "  global pred_model\n",
        "  global cv_nbr\n",
        "  global rmse\n",
        "\n",
        "  poly_features = PolynomialFeatures(degree=degree)\n",
        "  \n",
        "  # transforms the existing features to higher degree features.\n",
        "  X_train_poly = poly_features.fit_transform(X_train)\n",
        "  \n",
        "  # fit the transformed features to Linear Regression\n",
        "  poly_model = LinearRegression()\n",
        "  poly_model.fit(X_train_poly, y_train)\n",
        "  \n",
        "  # predicting on test data-set\n",
        "  y_test_pred = poly_model.predict(poly_features.fit_transform(X_test))\n",
        "  \n",
        "  # evaluating the model on test dataset\n",
        "  rmse = np.sqrt(mean_squared_error(y_test, y_test_pred))\n",
        "  r2 = r2_score(y_test, y_test_pred)\n",
        "  # Ενημέρωση στις λίστες\n",
        "  depth = int(max_depth)\n",
        "  degree_nbr = int(degree)\n",
        "  min_splits = 0\n",
        "  results = [cv_nbr, pred_model, degree_nbr, depth, min_splits, rmse, r2]\n",
        "  new_row = len(results_df)\n",
        "  results_df.loc[new_row] = results"
      ],
      "metadata": {
        "id": "Jh7U8KqNYe88"
      },
      "execution_count": null,
      "outputs": []
    },
    {
      "cell_type": "code",
      "source": [
        "# Function για εκτέλεση του Polynominal Regression function για διαφορετικό degree: 1-4\n",
        "\n",
        "def Poly_Reg():\n",
        "  #degrees = np.linspace(1, 5, 5, endpoint=True)\n",
        "  for degree in range(1, 5):\n",
        "    create_polynomial_regression_model(degree=degree)"
      ],
      "metadata": {
        "id": "lWpHCaOPUQ7I"
      },
      "execution_count": null,
      "outputs": []
    },
    {
      "cell_type": "code",
      "source": [
        "# function για Decision Tree Regressor με loop στο max_depth και στο min_samples_splits\n",
        "def DT_Reg():\n",
        "  global y_pred_test\n",
        "  global r2\n",
        "  global results_df\n",
        "  global depth\n",
        "  global degree_nbr\n",
        "  global min_splits\n",
        "  global pred_model\n",
        "  global cv_nbr\n",
        "  global rmse\n",
        "  global max_depth\n",
        "  max_depths = np.linspace(1, 22, 22, endpoint=True)\n",
        "  for max_depth in max_depths:    \n",
        "    min_samples_splits = np.linspace(0.1, 1.0, 10, endpoint=True)\n",
        "    for min_samples_split in min_samples_splits:\n",
        "      dtr = DecisionTreeRegressor(max_depth=max_depth, min_samples_split=min_samples_split)\n",
        "      # Εκπαίδευση στο train set\n",
        "      dtr.fit(X_train, y_train)\n",
        "      # Πρόβλεψη στο test set\n",
        "      y_pred_test = dtr.predict(X_test)\n",
        "      # Υπολογισμός root mean squared error\n",
        "      rmse = (np.sqrt(mean_squared_error(y_test, y_pred_test)))\n",
        "      # Υπολογισμός του r2 \n",
        "      r2 = r2_score(y_test, y_pred_test)\n",
        "      # Ενημέρωση στις λίστες\n",
        "      depth = int(max_depth)\n",
        "      degree_nbr = 0\n",
        "      min_splits = min_samples_split\n",
        "      results = [cv_nbr, pred_model, degree_nbr, depth, min_splits, rmse, r2]\n",
        "      new_row = len(results_df)\n",
        "      results_df.loc[new_row] = results"
      ],
      "metadata": {
        "id": "9NNWcos4xwUy"
      },
      "execution_count": null,
      "outputs": []
    },
    {
      "cell_type": "code",
      "source": [
        "#def append2lists(model_name):\n",
        "  #r2_scores_name = \"r2_scores_\" + model_name\n",
        "  #globals()[r2_scores_name].append(r2)\n",
        "  #ls_true_values_Lin_Reg_name = \"ls_true_values_\" + model_name\n",
        "  #globals()[ls_true_values_Lin_Reg_name].append(y_test)\n",
        "  #ls_pred_values_name = \"ls_pred_values_\" + model_name\n",
        "  #globals()[ls_pred_values_name].append(y_pred_test)"
      ],
      "metadata": {
        "id": "p52Feu8ycY_V"
      },
      "execution_count": null,
      "outputs": []
    },
    {
      "cell_type": "code",
      "source": [
        "# function για ΟΛΑ τα μοντέλα\n",
        "def run_ML_model(model_name):\n",
        "  if model_name == \"Lin_Reg\":\n",
        "    Lin_Reg()\n",
        "  elif model_name == \"Poly_Reg\":\n",
        "    Poly_Reg()\n",
        "  elif model_name == \"DT_Reg\":\n",
        "    DT_Reg()\n",
        "  #elif model_name == \"RF\":\n",
        "    #RF()"
      ],
      "metadata": {
        "id": "f52JIJwaMdbo"
      },
      "execution_count": null,
      "outputs": []
    },
    {
      "cell_type": "code",
      "source": [
        "y_pred_test = []\n",
        "r2 = 0.0\n",
        "rmse = 0.0\n",
        "results_df = pd.DataFrame(columns=['CV_nbr', 'Model', 'Degree', 'Max depth', 'Min samples split', 'RMSE', 'R2'], index=[0])\n",
        "cv_nbr = 0\n",
        "depth = 0\n",
        "max_depth = 0\n",
        "min_splits = 0\n",
        "degree_nbr = 0\n",
        "models = ['Lin_Reg', 'Poly_Reg', 'DT_Reg']\n",
        "for i_train, i_test in cv.split(Xn):\n",
        "  # Oρισμός των train και test sets σύμφωνα με το split\n",
        "  X_train, X_test, y_train, y_test = Xn.iloc[i_train], Xn.iloc[i_test], y.iloc[i_train], y.iloc[i_test] \n",
        "  cv_nbr += 1\n",
        "  for mod in models:\n",
        "    pred_model = mod\n",
        "    run_ML_model(model_name=mod)\n"
      ],
      "metadata": {
        "id": "fuHE_7q_Q4mD"
      },
      "execution_count": null,
      "outputs": []
    },
    {
      "cell_type": "code",
      "source": [
        "results_df"
      ],
      "metadata": {
        "colab": {
          "base_uri": "https://localhost:8080/",
          "height": 424
        },
        "id": "F1XhA4PxBKpq",
        "outputId": "36473d54-1072-4d3a-a02c-a4dd04d06950"
      },
      "execution_count": null,
      "outputs": [
        {
          "output_type": "execute_result",
          "data": {
            "text/plain": [
              "      CV_nbr     Model Degree Max depth Min samples split      RMSE        R2\n",
              "0        NaN       NaN    NaN       NaN               NaN       NaN       NaN\n",
              "1          1   Lin_Reg      0         0                 0  0.761796  0.251132\n",
              "2          1  Poly_Reg      1         0                 0  0.761796  0.251132\n",
              "3          1  Poly_Reg      2         0                 0  0.728407  0.315339\n",
              "4          1  Poly_Reg      3         0                 0  0.819074  0.134287\n",
              "...      ...       ...    ...       ...               ...       ...       ...\n",
              "22496    100    DT_Reg      0        22               0.6  0.807317  0.177782\n",
              "22497    100    DT_Reg      0        22               0.7  0.814307  0.163483\n",
              "22498    100    DT_Reg      0        22               0.8  0.814307  0.163483\n",
              "22499    100    DT_Reg      0        22               0.9  0.814307  0.163483\n",
              "22500    100    DT_Reg      0        22               1.0  0.814307  0.163483\n",
              "\n",
              "[22501 rows x 7 columns]"
            ],
            "text/html": [
              "\n",
              "  <div id=\"df-b16b774d-6d95-4aad-8dd1-6f6bc9ef8828\">\n",
              "    <div class=\"colab-df-container\">\n",
              "      <div>\n",
              "<style scoped>\n",
              "    .dataframe tbody tr th:only-of-type {\n",
              "        vertical-align: middle;\n",
              "    }\n",
              "\n",
              "    .dataframe tbody tr th {\n",
              "        vertical-align: top;\n",
              "    }\n",
              "\n",
              "    .dataframe thead th {\n",
              "        text-align: right;\n",
              "    }\n",
              "</style>\n",
              "<table border=\"1\" class=\"dataframe\">\n",
              "  <thead>\n",
              "    <tr style=\"text-align: right;\">\n",
              "      <th></th>\n",
              "      <th>CV_nbr</th>\n",
              "      <th>Model</th>\n",
              "      <th>Degree</th>\n",
              "      <th>Max depth</th>\n",
              "      <th>Min samples split</th>\n",
              "      <th>RMSE</th>\n",
              "      <th>R2</th>\n",
              "    </tr>\n",
              "  </thead>\n",
              "  <tbody>\n",
              "    <tr>\n",
              "      <th>0</th>\n",
              "      <td>NaN</td>\n",
              "      <td>NaN</td>\n",
              "      <td>NaN</td>\n",
              "      <td>NaN</td>\n",
              "      <td>NaN</td>\n",
              "      <td>NaN</td>\n",
              "      <td>NaN</td>\n",
              "    </tr>\n",
              "    <tr>\n",
              "      <th>1</th>\n",
              "      <td>1</td>\n",
              "      <td>Lin_Reg</td>\n",
              "      <td>0</td>\n",
              "      <td>0</td>\n",
              "      <td>0</td>\n",
              "      <td>0.761796</td>\n",
              "      <td>0.251132</td>\n",
              "    </tr>\n",
              "    <tr>\n",
              "      <th>2</th>\n",
              "      <td>1</td>\n",
              "      <td>Poly_Reg</td>\n",
              "      <td>1</td>\n",
              "      <td>0</td>\n",
              "      <td>0</td>\n",
              "      <td>0.761796</td>\n",
              "      <td>0.251132</td>\n",
              "    </tr>\n",
              "    <tr>\n",
              "      <th>3</th>\n",
              "      <td>1</td>\n",
              "      <td>Poly_Reg</td>\n",
              "      <td>2</td>\n",
              "      <td>0</td>\n",
              "      <td>0</td>\n",
              "      <td>0.728407</td>\n",
              "      <td>0.315339</td>\n",
              "    </tr>\n",
              "    <tr>\n",
              "      <th>4</th>\n",
              "      <td>1</td>\n",
              "      <td>Poly_Reg</td>\n",
              "      <td>3</td>\n",
              "      <td>0</td>\n",
              "      <td>0</td>\n",
              "      <td>0.819074</td>\n",
              "      <td>0.134287</td>\n",
              "    </tr>\n",
              "    <tr>\n",
              "      <th>...</th>\n",
              "      <td>...</td>\n",
              "      <td>...</td>\n",
              "      <td>...</td>\n",
              "      <td>...</td>\n",
              "      <td>...</td>\n",
              "      <td>...</td>\n",
              "      <td>...</td>\n",
              "    </tr>\n",
              "    <tr>\n",
              "      <th>22496</th>\n",
              "      <td>100</td>\n",
              "      <td>DT_Reg</td>\n",
              "      <td>0</td>\n",
              "      <td>22</td>\n",
              "      <td>0.6</td>\n",
              "      <td>0.807317</td>\n",
              "      <td>0.177782</td>\n",
              "    </tr>\n",
              "    <tr>\n",
              "      <th>22497</th>\n",
              "      <td>100</td>\n",
              "      <td>DT_Reg</td>\n",
              "      <td>0</td>\n",
              "      <td>22</td>\n",
              "      <td>0.7</td>\n",
              "      <td>0.814307</td>\n",
              "      <td>0.163483</td>\n",
              "    </tr>\n",
              "    <tr>\n",
              "      <th>22498</th>\n",
              "      <td>100</td>\n",
              "      <td>DT_Reg</td>\n",
              "      <td>0</td>\n",
              "      <td>22</td>\n",
              "      <td>0.8</td>\n",
              "      <td>0.814307</td>\n",
              "      <td>0.163483</td>\n",
              "    </tr>\n",
              "    <tr>\n",
              "      <th>22499</th>\n",
              "      <td>100</td>\n",
              "      <td>DT_Reg</td>\n",
              "      <td>0</td>\n",
              "      <td>22</td>\n",
              "      <td>0.9</td>\n",
              "      <td>0.814307</td>\n",
              "      <td>0.163483</td>\n",
              "    </tr>\n",
              "    <tr>\n",
              "      <th>22500</th>\n",
              "      <td>100</td>\n",
              "      <td>DT_Reg</td>\n",
              "      <td>0</td>\n",
              "      <td>22</td>\n",
              "      <td>1.0</td>\n",
              "      <td>0.814307</td>\n",
              "      <td>0.163483</td>\n",
              "    </tr>\n",
              "  </tbody>\n",
              "</table>\n",
              "<p>22501 rows × 7 columns</p>\n",
              "</div>\n",
              "      <button class=\"colab-df-convert\" onclick=\"convertToInteractive('df-b16b774d-6d95-4aad-8dd1-6f6bc9ef8828')\"\n",
              "              title=\"Convert this dataframe to an interactive table.\"\n",
              "              style=\"display:none;\">\n",
              "        \n",
              "  <svg xmlns=\"http://www.w3.org/2000/svg\" height=\"24px\"viewBox=\"0 0 24 24\"\n",
              "       width=\"24px\">\n",
              "    <path d=\"M0 0h24v24H0V0z\" fill=\"none\"/>\n",
              "    <path d=\"M18.56 5.44l.94 2.06.94-2.06 2.06-.94-2.06-.94-.94-2.06-.94 2.06-2.06.94zm-11 1L8.5 8.5l.94-2.06 2.06-.94-2.06-.94L8.5 2.5l-.94 2.06-2.06.94zm10 10l.94 2.06.94-2.06 2.06-.94-2.06-.94-.94-2.06-.94 2.06-2.06.94z\"/><path d=\"M17.41 7.96l-1.37-1.37c-.4-.4-.92-.59-1.43-.59-.52 0-1.04.2-1.43.59L10.3 9.45l-7.72 7.72c-.78.78-.78 2.05 0 2.83L4 21.41c.39.39.9.59 1.41.59.51 0 1.02-.2 1.41-.59l7.78-7.78 2.81-2.81c.8-.78.8-2.07 0-2.86zM5.41 20L4 18.59l7.72-7.72 1.47 1.35L5.41 20z\"/>\n",
              "  </svg>\n",
              "      </button>\n",
              "      \n",
              "  <style>\n",
              "    .colab-df-container {\n",
              "      display:flex;\n",
              "      flex-wrap:wrap;\n",
              "      gap: 12px;\n",
              "    }\n",
              "\n",
              "    .colab-df-convert {\n",
              "      background-color: #E8F0FE;\n",
              "      border: none;\n",
              "      border-radius: 50%;\n",
              "      cursor: pointer;\n",
              "      display: none;\n",
              "      fill: #1967D2;\n",
              "      height: 32px;\n",
              "      padding: 0 0 0 0;\n",
              "      width: 32px;\n",
              "    }\n",
              "\n",
              "    .colab-df-convert:hover {\n",
              "      background-color: #E2EBFA;\n",
              "      box-shadow: 0px 1px 2px rgba(60, 64, 67, 0.3), 0px 1px 3px 1px rgba(60, 64, 67, 0.15);\n",
              "      fill: #174EA6;\n",
              "    }\n",
              "\n",
              "    [theme=dark] .colab-df-convert {\n",
              "      background-color: #3B4455;\n",
              "      fill: #D2E3FC;\n",
              "    }\n",
              "\n",
              "    [theme=dark] .colab-df-convert:hover {\n",
              "      background-color: #434B5C;\n",
              "      box-shadow: 0px 1px 3px 1px rgba(0, 0, 0, 0.15);\n",
              "      filter: drop-shadow(0px 1px 2px rgba(0, 0, 0, 0.3));\n",
              "      fill: #FFFFFF;\n",
              "    }\n",
              "  </style>\n",
              "\n",
              "      <script>\n",
              "        const buttonEl =\n",
              "          document.querySelector('#df-b16b774d-6d95-4aad-8dd1-6f6bc9ef8828 button.colab-df-convert');\n",
              "        buttonEl.style.display =\n",
              "          google.colab.kernel.accessAllowed ? 'block' : 'none';\n",
              "\n",
              "        async function convertToInteractive(key) {\n",
              "          const element = document.querySelector('#df-b16b774d-6d95-4aad-8dd1-6f6bc9ef8828');\n",
              "          const dataTable =\n",
              "            await google.colab.kernel.invokeFunction('convertToInteractive',\n",
              "                                                     [key], {});\n",
              "          if (!dataTable) return;\n",
              "\n",
              "          const docLinkHtml = 'Like what you see? Visit the ' +\n",
              "            '<a target=\"_blank\" href=https://colab.research.google.com/notebooks/data_table.ipynb>data table notebook</a>'\n",
              "            + ' to learn more about interactive tables.';\n",
              "          element.innerHTML = '';\n",
              "          dataTable['output_type'] = 'display_data';\n",
              "          await google.colab.output.renderOutput(dataTable, element);\n",
              "          const docLink = document.createElement('div');\n",
              "          docLink.innerHTML = docLinkHtml;\n",
              "          element.appendChild(docLink);\n",
              "        }\n",
              "      </script>\n",
              "    </div>\n",
              "  </div>\n",
              "  "
            ]
          },
          "metadata": {},
          "execution_count": 42
        }
      ]
    },
    {
      "cell_type": "code",
      "source": [
        "# Means for Linear Regression\n",
        "d = 0\n",
        "md = 0\n",
        "mss = 0\n",
        "mean_r2 = round(results_df[results_df['Model'] == 'Lin_Reg']['R2'].mean(), 2)\n",
        "std_r2 = round(results_df[results_df['Model'] == 'Lin_Reg']['R2'].std(ddof=0), 2)\n",
        "mean_rmse = round(results_df[results_df['Model'] == 'Lin_Reg']['RMSE'].mean(), 2)\n",
        "std_rmse = round(results_df[results_df['Model'] == 'Lin_Reg']['RMSE'].std(ddof=0), 2)\n",
        "\n",
        "r2_results = [\"Lin_Reg\", d, md, mss, mean_rmse, std_rmse, mean_r2, std_r2]\n",
        "r2_df = pd.DataFrame(columns=['Model', 'Degree', 'Max depth', 'Min split', 'meanRMSE', 'stdRMSE', 'meanR2', 'stdR2'], index=[0])\n",
        "r2_df.loc[0] = r2_results"
      ],
      "metadata": {
        "id": "ZcatXI6RgS49"
      },
      "execution_count": null,
      "outputs": []
    },
    {
      "cell_type": "code",
      "source": [
        "# Means for Polynominal Regression\n",
        "d = 0\n",
        "md = 0\n",
        "mss = 0\n",
        "for d in range(1, 5):\n",
        "  mean_r2 = round(results_df[(results_df['Model'] == 'Poly_Reg') & (results_df['Degree'] == d)]['R2'].mean(), 2)\n",
        "  std_r2 = round(results_df[(results_df['Model'] == 'Poly_Reg') & (results_df['Degree'] == d)]['R2'].std(ddof=0), 2)\n",
        "  mean_rmse = round(results_df[(results_df['Model'] == 'Poly_Reg') & (results_df['Degree'] == d)]['RMSE'].mean(), 2)\n",
        "  std_rmse = round(results_df[(results_df['Model'] == 'Poly_Reg') & (results_df['Degree'] == d)]['RMSE'].std(ddof=0), 2)\n",
        "  r2_results = [\"Poly_Reg\", d, md, mss, mean_rmse, std_rmse, mean_r2, std_r2]\n",
        "  new_row = len(r2_df)\n",
        "  r2_df.loc[new_row] = r2_results"
      ],
      "metadata": {
        "id": "G45EKLGznibo"
      },
      "execution_count": null,
      "outputs": []
    },
    {
      "cell_type": "code",
      "source": [
        "# Means for Decision Tree Regression\n",
        "d = 0\n",
        "md = 0\n",
        "split = 0\n",
        "for depth in range(1,23):\n",
        "  splits = np.linspace(0.1, 1.0, 10, endpoint=True)\n",
        "  for split in splits:\n",
        "    mean_r2 = round(results_df[(results_df['Model'] == 'DT_Reg') & (results_df['Max depth'] == depth) & (results_df['Min samples split'] == split)]['R2'].mean(), 2)\n",
        "    std_r2 = round(results_df[(results_df['Model'] == 'DT_Reg') & (results_df['Max depth'] == depth) & (results_df['Min samples split'] == split)]['R2'].std(ddof=0), 2)\n",
        "    mean_rmse = round(results_df[(results_df['Model'] == 'DT_Reg') & (results_df['Max depth'] == depth) & (results_df['Min samples split'] == split)]['R2'].mean(), 2)\n",
        "    std_rmse = round(results_df[(results_df['Model'] == 'DT_Reg') & (results_df['Max depth'] == depth) & (results_df['Min samples split'] == split)]['R2'].std(ddof=0), 2)\n",
        "    r2_results = [\"DT_Reg\", d, depth, split, mean_rmse, std_rmse, mean_r2, std_r2]\n",
        "    new_row = len(r2_df)\n",
        "    r2_df.loc[new_row] = r2_results"
      ],
      "metadata": {
        "id": "MNVA1Sfd5-P8"
      },
      "execution_count": null,
      "outputs": []
    },
    {
      "cell_type": "code",
      "source": [
        "r2_df[r2_df['meanR2'] == r2_df['meanR2'].max()]"
      ],
      "metadata": {
        "colab": {
          "base_uri": "https://localhost:8080/",
          "height": 614
        },
        "id": "IZK5OQxcv25X",
        "outputId": "e8517394-90db-4dd3-ac10-fa86e9af1cc5"
      },
      "execution_count": null,
      "outputs": [
        {
          "output_type": "execute_result",
          "data": {
            "text/plain": [
              "        Model Degree Max depth Min split meanRMSE stdRMSE meanR2 stdR2\n",
              "2    Poly_Reg      2         0         0     0.74    0.05    0.3   0.1\n",
              "55     DT_Reg      0         6       0.1      0.3    0.04    0.3  0.04\n",
              "65     DT_Reg      0         7       0.1      0.3    0.04    0.3  0.04\n",
              "75     DT_Reg      0         8       0.1      0.3    0.04    0.3  0.04\n",
              "85     DT_Reg      0         9       0.1      0.3    0.04    0.3  0.04\n",
              "95     DT_Reg      0        10       0.1      0.3    0.04    0.3  0.04\n",
              "105    DT_Reg      0        11       0.1      0.3    0.04    0.3  0.04\n",
              "115    DT_Reg      0        12       0.1      0.3    0.04    0.3  0.04\n",
              "125    DT_Reg      0        13       0.1      0.3    0.04    0.3  0.04\n",
              "135    DT_Reg      0        14       0.1      0.3    0.04    0.3  0.04\n",
              "145    DT_Reg      0        15       0.1      0.3    0.04    0.3  0.04\n",
              "155    DT_Reg      0        16       0.1      0.3    0.04    0.3  0.04\n",
              "165    DT_Reg      0        17       0.1      0.3    0.04    0.3  0.04\n",
              "175    DT_Reg      0        18       0.1      0.3    0.04    0.3  0.04\n",
              "185    DT_Reg      0        19       0.1      0.3    0.04    0.3  0.04\n",
              "195    DT_Reg      0        20       0.1      0.3    0.04    0.3  0.04\n",
              "205    DT_Reg      0        21       0.1      0.3    0.04    0.3  0.04\n",
              "215    DT_Reg      0        22       0.1      0.3    0.04    0.3  0.04"
            ],
            "text/html": [
              "\n",
              "  <div id=\"df-7f0eef4b-c60e-468e-a27f-7124d4b877cf\">\n",
              "    <div class=\"colab-df-container\">\n",
              "      <div>\n",
              "<style scoped>\n",
              "    .dataframe tbody tr th:only-of-type {\n",
              "        vertical-align: middle;\n",
              "    }\n",
              "\n",
              "    .dataframe tbody tr th {\n",
              "        vertical-align: top;\n",
              "    }\n",
              "\n",
              "    .dataframe thead th {\n",
              "        text-align: right;\n",
              "    }\n",
              "</style>\n",
              "<table border=\"1\" class=\"dataframe\">\n",
              "  <thead>\n",
              "    <tr style=\"text-align: right;\">\n",
              "      <th></th>\n",
              "      <th>Model</th>\n",
              "      <th>Degree</th>\n",
              "      <th>Max depth</th>\n",
              "      <th>Min split</th>\n",
              "      <th>meanRMSE</th>\n",
              "      <th>stdRMSE</th>\n",
              "      <th>meanR2</th>\n",
              "      <th>stdR2</th>\n",
              "    </tr>\n",
              "  </thead>\n",
              "  <tbody>\n",
              "    <tr>\n",
              "      <th>2</th>\n",
              "      <td>Poly_Reg</td>\n",
              "      <td>2</td>\n",
              "      <td>0</td>\n",
              "      <td>0</td>\n",
              "      <td>0.74</td>\n",
              "      <td>0.05</td>\n",
              "      <td>0.3</td>\n",
              "      <td>0.1</td>\n",
              "    </tr>\n",
              "    <tr>\n",
              "      <th>55</th>\n",
              "      <td>DT_Reg</td>\n",
              "      <td>0</td>\n",
              "      <td>6</td>\n",
              "      <td>0.1</td>\n",
              "      <td>0.3</td>\n",
              "      <td>0.04</td>\n",
              "      <td>0.3</td>\n",
              "      <td>0.04</td>\n",
              "    </tr>\n",
              "    <tr>\n",
              "      <th>65</th>\n",
              "      <td>DT_Reg</td>\n",
              "      <td>0</td>\n",
              "      <td>7</td>\n",
              "      <td>0.1</td>\n",
              "      <td>0.3</td>\n",
              "      <td>0.04</td>\n",
              "      <td>0.3</td>\n",
              "      <td>0.04</td>\n",
              "    </tr>\n",
              "    <tr>\n",
              "      <th>75</th>\n",
              "      <td>DT_Reg</td>\n",
              "      <td>0</td>\n",
              "      <td>8</td>\n",
              "      <td>0.1</td>\n",
              "      <td>0.3</td>\n",
              "      <td>0.04</td>\n",
              "      <td>0.3</td>\n",
              "      <td>0.04</td>\n",
              "    </tr>\n",
              "    <tr>\n",
              "      <th>85</th>\n",
              "      <td>DT_Reg</td>\n",
              "      <td>0</td>\n",
              "      <td>9</td>\n",
              "      <td>0.1</td>\n",
              "      <td>0.3</td>\n",
              "      <td>0.04</td>\n",
              "      <td>0.3</td>\n",
              "      <td>0.04</td>\n",
              "    </tr>\n",
              "    <tr>\n",
              "      <th>95</th>\n",
              "      <td>DT_Reg</td>\n",
              "      <td>0</td>\n",
              "      <td>10</td>\n",
              "      <td>0.1</td>\n",
              "      <td>0.3</td>\n",
              "      <td>0.04</td>\n",
              "      <td>0.3</td>\n",
              "      <td>0.04</td>\n",
              "    </tr>\n",
              "    <tr>\n",
              "      <th>105</th>\n",
              "      <td>DT_Reg</td>\n",
              "      <td>0</td>\n",
              "      <td>11</td>\n",
              "      <td>0.1</td>\n",
              "      <td>0.3</td>\n",
              "      <td>0.04</td>\n",
              "      <td>0.3</td>\n",
              "      <td>0.04</td>\n",
              "    </tr>\n",
              "    <tr>\n",
              "      <th>115</th>\n",
              "      <td>DT_Reg</td>\n",
              "      <td>0</td>\n",
              "      <td>12</td>\n",
              "      <td>0.1</td>\n",
              "      <td>0.3</td>\n",
              "      <td>0.04</td>\n",
              "      <td>0.3</td>\n",
              "      <td>0.04</td>\n",
              "    </tr>\n",
              "    <tr>\n",
              "      <th>125</th>\n",
              "      <td>DT_Reg</td>\n",
              "      <td>0</td>\n",
              "      <td>13</td>\n",
              "      <td>0.1</td>\n",
              "      <td>0.3</td>\n",
              "      <td>0.04</td>\n",
              "      <td>0.3</td>\n",
              "      <td>0.04</td>\n",
              "    </tr>\n",
              "    <tr>\n",
              "      <th>135</th>\n",
              "      <td>DT_Reg</td>\n",
              "      <td>0</td>\n",
              "      <td>14</td>\n",
              "      <td>0.1</td>\n",
              "      <td>0.3</td>\n",
              "      <td>0.04</td>\n",
              "      <td>0.3</td>\n",
              "      <td>0.04</td>\n",
              "    </tr>\n",
              "    <tr>\n",
              "      <th>145</th>\n",
              "      <td>DT_Reg</td>\n",
              "      <td>0</td>\n",
              "      <td>15</td>\n",
              "      <td>0.1</td>\n",
              "      <td>0.3</td>\n",
              "      <td>0.04</td>\n",
              "      <td>0.3</td>\n",
              "      <td>0.04</td>\n",
              "    </tr>\n",
              "    <tr>\n",
              "      <th>155</th>\n",
              "      <td>DT_Reg</td>\n",
              "      <td>0</td>\n",
              "      <td>16</td>\n",
              "      <td>0.1</td>\n",
              "      <td>0.3</td>\n",
              "      <td>0.04</td>\n",
              "      <td>0.3</td>\n",
              "      <td>0.04</td>\n",
              "    </tr>\n",
              "    <tr>\n",
              "      <th>165</th>\n",
              "      <td>DT_Reg</td>\n",
              "      <td>0</td>\n",
              "      <td>17</td>\n",
              "      <td>0.1</td>\n",
              "      <td>0.3</td>\n",
              "      <td>0.04</td>\n",
              "      <td>0.3</td>\n",
              "      <td>0.04</td>\n",
              "    </tr>\n",
              "    <tr>\n",
              "      <th>175</th>\n",
              "      <td>DT_Reg</td>\n",
              "      <td>0</td>\n",
              "      <td>18</td>\n",
              "      <td>0.1</td>\n",
              "      <td>0.3</td>\n",
              "      <td>0.04</td>\n",
              "      <td>0.3</td>\n",
              "      <td>0.04</td>\n",
              "    </tr>\n",
              "    <tr>\n",
              "      <th>185</th>\n",
              "      <td>DT_Reg</td>\n",
              "      <td>0</td>\n",
              "      <td>19</td>\n",
              "      <td>0.1</td>\n",
              "      <td>0.3</td>\n",
              "      <td>0.04</td>\n",
              "      <td>0.3</td>\n",
              "      <td>0.04</td>\n",
              "    </tr>\n",
              "    <tr>\n",
              "      <th>195</th>\n",
              "      <td>DT_Reg</td>\n",
              "      <td>0</td>\n",
              "      <td>20</td>\n",
              "      <td>0.1</td>\n",
              "      <td>0.3</td>\n",
              "      <td>0.04</td>\n",
              "      <td>0.3</td>\n",
              "      <td>0.04</td>\n",
              "    </tr>\n",
              "    <tr>\n",
              "      <th>205</th>\n",
              "      <td>DT_Reg</td>\n",
              "      <td>0</td>\n",
              "      <td>21</td>\n",
              "      <td>0.1</td>\n",
              "      <td>0.3</td>\n",
              "      <td>0.04</td>\n",
              "      <td>0.3</td>\n",
              "      <td>0.04</td>\n",
              "    </tr>\n",
              "    <tr>\n",
              "      <th>215</th>\n",
              "      <td>DT_Reg</td>\n",
              "      <td>0</td>\n",
              "      <td>22</td>\n",
              "      <td>0.1</td>\n",
              "      <td>0.3</td>\n",
              "      <td>0.04</td>\n",
              "      <td>0.3</td>\n",
              "      <td>0.04</td>\n",
              "    </tr>\n",
              "  </tbody>\n",
              "</table>\n",
              "</div>\n",
              "      <button class=\"colab-df-convert\" onclick=\"convertToInteractive('df-7f0eef4b-c60e-468e-a27f-7124d4b877cf')\"\n",
              "              title=\"Convert this dataframe to an interactive table.\"\n",
              "              style=\"display:none;\">\n",
              "        \n",
              "  <svg xmlns=\"http://www.w3.org/2000/svg\" height=\"24px\"viewBox=\"0 0 24 24\"\n",
              "       width=\"24px\">\n",
              "    <path d=\"M0 0h24v24H0V0z\" fill=\"none\"/>\n",
              "    <path d=\"M18.56 5.44l.94 2.06.94-2.06 2.06-.94-2.06-.94-.94-2.06-.94 2.06-2.06.94zm-11 1L8.5 8.5l.94-2.06 2.06-.94-2.06-.94L8.5 2.5l-.94 2.06-2.06.94zm10 10l.94 2.06.94-2.06 2.06-.94-2.06-.94-.94-2.06-.94 2.06-2.06.94z\"/><path d=\"M17.41 7.96l-1.37-1.37c-.4-.4-.92-.59-1.43-.59-.52 0-1.04.2-1.43.59L10.3 9.45l-7.72 7.72c-.78.78-.78 2.05 0 2.83L4 21.41c.39.39.9.59 1.41.59.51 0 1.02-.2 1.41-.59l7.78-7.78 2.81-2.81c.8-.78.8-2.07 0-2.86zM5.41 20L4 18.59l7.72-7.72 1.47 1.35L5.41 20z\"/>\n",
              "  </svg>\n",
              "      </button>\n",
              "      \n",
              "  <style>\n",
              "    .colab-df-container {\n",
              "      display:flex;\n",
              "      flex-wrap:wrap;\n",
              "      gap: 12px;\n",
              "    }\n",
              "\n",
              "    .colab-df-convert {\n",
              "      background-color: #E8F0FE;\n",
              "      border: none;\n",
              "      border-radius: 50%;\n",
              "      cursor: pointer;\n",
              "      display: none;\n",
              "      fill: #1967D2;\n",
              "      height: 32px;\n",
              "      padding: 0 0 0 0;\n",
              "      width: 32px;\n",
              "    }\n",
              "\n",
              "    .colab-df-convert:hover {\n",
              "      background-color: #E2EBFA;\n",
              "      box-shadow: 0px 1px 2px rgba(60, 64, 67, 0.3), 0px 1px 3px 1px rgba(60, 64, 67, 0.15);\n",
              "      fill: #174EA6;\n",
              "    }\n",
              "\n",
              "    [theme=dark] .colab-df-convert {\n",
              "      background-color: #3B4455;\n",
              "      fill: #D2E3FC;\n",
              "    }\n",
              "\n",
              "    [theme=dark] .colab-df-convert:hover {\n",
              "      background-color: #434B5C;\n",
              "      box-shadow: 0px 1px 3px 1px rgba(0, 0, 0, 0.15);\n",
              "      filter: drop-shadow(0px 1px 2px rgba(0, 0, 0, 0.3));\n",
              "      fill: #FFFFFF;\n",
              "    }\n",
              "  </style>\n",
              "\n",
              "      <script>\n",
              "        const buttonEl =\n",
              "          document.querySelector('#df-7f0eef4b-c60e-468e-a27f-7124d4b877cf button.colab-df-convert');\n",
              "        buttonEl.style.display =\n",
              "          google.colab.kernel.accessAllowed ? 'block' : 'none';\n",
              "\n",
              "        async function convertToInteractive(key) {\n",
              "          const element = document.querySelector('#df-7f0eef4b-c60e-468e-a27f-7124d4b877cf');\n",
              "          const dataTable =\n",
              "            await google.colab.kernel.invokeFunction('convertToInteractive',\n",
              "                                                     [key], {});\n",
              "          if (!dataTable) return;\n",
              "\n",
              "          const docLinkHtml = 'Like what you see? Visit the ' +\n",
              "            '<a target=\"_blank\" href=https://colab.research.google.com/notebooks/data_table.ipynb>data table notebook</a>'\n",
              "            + ' to learn more about interactive tables.';\n",
              "          element.innerHTML = '';\n",
              "          dataTable['output_type'] = 'display_data';\n",
              "          await google.colab.output.renderOutput(dataTable, element);\n",
              "          const docLink = document.createElement('div');\n",
              "          docLink.innerHTML = docLinkHtml;\n",
              "          element.appendChild(docLink);\n",
              "        }\n",
              "      </script>\n",
              "    </div>\n",
              "  </div>\n",
              "  "
            ]
          },
          "metadata": {},
          "execution_count": 53
        }
      ]
    },
    {
      "cell_type": "code",
      "source": [
        "r2_df.sort_values(['meanR2', 'stdR2'], ascending=[False, True]).head(3)"
      ],
      "metadata": {
        "id": "-PXrW8NHRQpM",
        "colab": {
          "base_uri": "https://localhost:8080/",
          "height": 143
        },
        "outputId": "52e155e5-2682-4c61-97cb-4992a8ba460c"
      },
      "execution_count": null,
      "outputs": [
        {
          "output_type": "execute_result",
          "data": {
            "text/plain": [
              "     Model Degree Max depth Min split meanRMSE stdRMSE meanR2 stdR2\n",
              "55  DT_Reg      0         6       0.1      0.3    0.04    0.3  0.04\n",
              "65  DT_Reg      0         7       0.1      0.3    0.04    0.3  0.04\n",
              "75  DT_Reg      0         8       0.1      0.3    0.04    0.3  0.04"
            ],
            "text/html": [
              "\n",
              "  <div id=\"df-1d1648da-59e9-49c6-98ba-c90fb7b3fb5b\">\n",
              "    <div class=\"colab-df-container\">\n",
              "      <div>\n",
              "<style scoped>\n",
              "    .dataframe tbody tr th:only-of-type {\n",
              "        vertical-align: middle;\n",
              "    }\n",
              "\n",
              "    .dataframe tbody tr th {\n",
              "        vertical-align: top;\n",
              "    }\n",
              "\n",
              "    .dataframe thead th {\n",
              "        text-align: right;\n",
              "    }\n",
              "</style>\n",
              "<table border=\"1\" class=\"dataframe\">\n",
              "  <thead>\n",
              "    <tr style=\"text-align: right;\">\n",
              "      <th></th>\n",
              "      <th>Model</th>\n",
              "      <th>Degree</th>\n",
              "      <th>Max depth</th>\n",
              "      <th>Min split</th>\n",
              "      <th>meanRMSE</th>\n",
              "      <th>stdRMSE</th>\n",
              "      <th>meanR2</th>\n",
              "      <th>stdR2</th>\n",
              "    </tr>\n",
              "  </thead>\n",
              "  <tbody>\n",
              "    <tr>\n",
              "      <th>55</th>\n",
              "      <td>DT_Reg</td>\n",
              "      <td>0</td>\n",
              "      <td>6</td>\n",
              "      <td>0.1</td>\n",
              "      <td>0.3</td>\n",
              "      <td>0.04</td>\n",
              "      <td>0.3</td>\n",
              "      <td>0.04</td>\n",
              "    </tr>\n",
              "    <tr>\n",
              "      <th>65</th>\n",
              "      <td>DT_Reg</td>\n",
              "      <td>0</td>\n",
              "      <td>7</td>\n",
              "      <td>0.1</td>\n",
              "      <td>0.3</td>\n",
              "      <td>0.04</td>\n",
              "      <td>0.3</td>\n",
              "      <td>0.04</td>\n",
              "    </tr>\n",
              "    <tr>\n",
              "      <th>75</th>\n",
              "      <td>DT_Reg</td>\n",
              "      <td>0</td>\n",
              "      <td>8</td>\n",
              "      <td>0.1</td>\n",
              "      <td>0.3</td>\n",
              "      <td>0.04</td>\n",
              "      <td>0.3</td>\n",
              "      <td>0.04</td>\n",
              "    </tr>\n",
              "  </tbody>\n",
              "</table>\n",
              "</div>\n",
              "      <button class=\"colab-df-convert\" onclick=\"convertToInteractive('df-1d1648da-59e9-49c6-98ba-c90fb7b3fb5b')\"\n",
              "              title=\"Convert this dataframe to an interactive table.\"\n",
              "              style=\"display:none;\">\n",
              "        \n",
              "  <svg xmlns=\"http://www.w3.org/2000/svg\" height=\"24px\"viewBox=\"0 0 24 24\"\n",
              "       width=\"24px\">\n",
              "    <path d=\"M0 0h24v24H0V0z\" fill=\"none\"/>\n",
              "    <path d=\"M18.56 5.44l.94 2.06.94-2.06 2.06-.94-2.06-.94-.94-2.06-.94 2.06-2.06.94zm-11 1L8.5 8.5l.94-2.06 2.06-.94-2.06-.94L8.5 2.5l-.94 2.06-2.06.94zm10 10l.94 2.06.94-2.06 2.06-.94-2.06-.94-.94-2.06-.94 2.06-2.06.94z\"/><path d=\"M17.41 7.96l-1.37-1.37c-.4-.4-.92-.59-1.43-.59-.52 0-1.04.2-1.43.59L10.3 9.45l-7.72 7.72c-.78.78-.78 2.05 0 2.83L4 21.41c.39.39.9.59 1.41.59.51 0 1.02-.2 1.41-.59l7.78-7.78 2.81-2.81c.8-.78.8-2.07 0-2.86zM5.41 20L4 18.59l7.72-7.72 1.47 1.35L5.41 20z\"/>\n",
              "  </svg>\n",
              "      </button>\n",
              "      \n",
              "  <style>\n",
              "    .colab-df-container {\n",
              "      display:flex;\n",
              "      flex-wrap:wrap;\n",
              "      gap: 12px;\n",
              "    }\n",
              "\n",
              "    .colab-df-convert {\n",
              "      background-color: #E8F0FE;\n",
              "      border: none;\n",
              "      border-radius: 50%;\n",
              "      cursor: pointer;\n",
              "      display: none;\n",
              "      fill: #1967D2;\n",
              "      height: 32px;\n",
              "      padding: 0 0 0 0;\n",
              "      width: 32px;\n",
              "    }\n",
              "\n",
              "    .colab-df-convert:hover {\n",
              "      background-color: #E2EBFA;\n",
              "      box-shadow: 0px 1px 2px rgba(60, 64, 67, 0.3), 0px 1px 3px 1px rgba(60, 64, 67, 0.15);\n",
              "      fill: #174EA6;\n",
              "    }\n",
              "\n",
              "    [theme=dark] .colab-df-convert {\n",
              "      background-color: #3B4455;\n",
              "      fill: #D2E3FC;\n",
              "    }\n",
              "\n",
              "    [theme=dark] .colab-df-convert:hover {\n",
              "      background-color: #434B5C;\n",
              "      box-shadow: 0px 1px 3px 1px rgba(0, 0, 0, 0.15);\n",
              "      filter: drop-shadow(0px 1px 2px rgba(0, 0, 0, 0.3));\n",
              "      fill: #FFFFFF;\n",
              "    }\n",
              "  </style>\n",
              "\n",
              "      <script>\n",
              "        const buttonEl =\n",
              "          document.querySelector('#df-1d1648da-59e9-49c6-98ba-c90fb7b3fb5b button.colab-df-convert');\n",
              "        buttonEl.style.display =\n",
              "          google.colab.kernel.accessAllowed ? 'block' : 'none';\n",
              "\n",
              "        async function convertToInteractive(key) {\n",
              "          const element = document.querySelector('#df-1d1648da-59e9-49c6-98ba-c90fb7b3fb5b');\n",
              "          const dataTable =\n",
              "            await google.colab.kernel.invokeFunction('convertToInteractive',\n",
              "                                                     [key], {});\n",
              "          if (!dataTable) return;\n",
              "\n",
              "          const docLinkHtml = 'Like what you see? Visit the ' +\n",
              "            '<a target=\"_blank\" href=https://colab.research.google.com/notebooks/data_table.ipynb>data table notebook</a>'\n",
              "            + ' to learn more about interactive tables.';\n",
              "          element.innerHTML = '';\n",
              "          dataTable['output_type'] = 'display_data';\n",
              "          await google.colab.output.renderOutput(dataTable, element);\n",
              "          const docLink = document.createElement('div');\n",
              "          docLink.innerHTML = docLinkHtml;\n",
              "          element.appendChild(docLink);\n",
              "        }\n",
              "      </script>\n",
              "    </div>\n",
              "  </div>\n",
              "  "
            ]
          },
          "metadata": {},
          "execution_count": 60
        }
      ]
    },
    {
      "cell_type": "markdown",
      "source": [
        "####Wine conversion for Classification version"
      ],
      "metadata": {
        "id": "X9RqbIrmGJmp"
      }
    },
    {
      "cell_type": "code",
      "source": [
        "# Create Classification version of target variable\n",
        "df['goodquality'] = [1 if x >= 7 else 0 for x in df['quality']]"
      ],
      "metadata": {
        "id": "qvRr1kTaGY_Y"
      },
      "execution_count": null,
      "outputs": []
    },
    {
      "cell_type": "code",
      "source": [
        "# See proportion of good vs bad wines\n",
        "df['goodquality'].value_counts()"
      ],
      "metadata": {
        "colab": {
          "base_uri": "https://localhost:8080/"
        },
        "id": "woQhCQDNG1-2",
        "outputId": "6877974c-f476-4e3c-e07b-232c93b3e2e2"
      },
      "execution_count": null,
      "outputs": [
        {
          "output_type": "execute_result",
          "data": {
            "text/plain": [
              "0    3838\n",
              "1    1060\n",
              "Name: goodquality, dtype: int64"
            ]
          },
          "metadata": {},
          "execution_count": 64
        }
      ]
    }
  ]
}